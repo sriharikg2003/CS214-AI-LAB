{
 "cells": [
  {
   "cell_type": "code",
   "execution_count": 199,
   "id": "ff8671db",
   "metadata": {},
   "outputs": [],
   "source": [
    "import pandas as pd\n",
    "import numpy as np\n",
    "import matplotlib.pyplot as plt\n",
    "%matplotlib inline"
   ]
  },
  {
   "cell_type": "code",
   "execution_count": 213,
   "id": "e3517472",
   "metadata": {},
   "outputs": [],
   "source": [
    "def chooseBestFeature(df):\n",
    "    \"\"\"\n",
    "    From the dataframe given selects the root node\n",
    "    \"\"\"\n",
    "    categorical = df.columns[-1]\n",
    "    \n",
    "    feature_array = df.columns[:-1]\n",
    "    \n",
    "    ig_array = dict()\n",
    "    \n",
    "    for i in feature_array:\n",
    "        ig_array[i] = getInfoGainOverFeature(df,i)\n",
    "        \n",
    "    print(ig_array)\n",
    "    \n",
    "    \n",
    "    \n",
    "    return max(ig_array, key=ig_array.get),ig_array[max(ig_array, key=ig_array.get)]\n",
    "    \n",
    "    "
   ]
  },
  {
   "cell_type": "code",
   "execution_count": 218,
   "id": "4565cbd2",
   "metadata": {},
   "outputs": [],
   "source": [
    "def getInfoGainOverFeature(df,feature):\n",
    "    \n",
    "    \"\"\"\n",
    "    Return the information gain for a given part of dataframe\n",
    "    on splitting upon a feature\n",
    "    \"\"\"\n",
    "    categorical = df.columns[-1]\n",
    "    \n",
    "    \n",
    "    dataframe_array = []\n",
    "\n",
    "    for value in df[feature].unique():\n",
    "        dataframe_array.append(df[df[feature]==value])\n",
    "    \n",
    "    feature_dict = dict()\n",
    "    entropy_array = []\n",
    "    \n",
    "    for dataframe in dataframe_array:\n",
    "        entropy_array.append(entropy(dataframe))\n",
    "        \n",
    "    \n",
    "    entropy_parent = entropy(df)\n",
    "    \n",
    "    total_values = len(df)\n",
    "    \n",
    "    factor_array = []\n",
    "    for i in range(len(entropy_array)):\n",
    "        factor_array.append( ((len(dataframe_array[i])/total_values))*entropy_array[i] )\n",
    "    \n",
    "    return entropy_parent-sum(factor_array)\n",
    "    \n"
   ]
  },
  {
   "cell_type": "code",
   "execution_count": 219,
   "id": "bf21bc85",
   "metadata": {},
   "outputs": [],
   "source": [
    "def mylog(num):\n",
    "    \"\"\"\n",
    "    Returns log base 2 of number\n",
    "    \"\"\"\n",
    "    if num!=0 :\n",
    "        return np.log2(num)\n",
    "    return 0"
   ]
  },
  {
   "cell_type": "code",
   "execution_count": 220,
   "id": "a5506fa1",
   "metadata": {},
   "outputs": [],
   "source": [
    "def entropy(df):\n",
    "    \"\"\"\n",
    "    Returns entropy of a part of dataframe\n",
    "    \"\"\"\n",
    "    categorical = df.columns[-1]\n",
    "    #use dict\n",
    "    count = dict()\n",
    "    for  x in df[categorical].unique():\n",
    "        count[x]=0\n",
    "    for  x in df[categorical].values:\n",
    "        count[x]+=1\n",
    "\n",
    "    total_Values = len(df[categorical].values) \n",
    "    \n",
    "    return -1*sum([(count[i]/total_Values)*mylog(count[i]/total_Values) for i in count.keys() ])\n"
   ]
  },
  {
   "cell_type": "code",
   "execution_count": 223,
   "id": "c0bf10ba",
   "metadata": {},
   "outputs": [],
   "source": [
    "df = pd.read_excel('test.csv.xlsx')"
   ]
  },
  {
   "cell_type": "code",
   "execution_count": 224,
   "id": "7bafc37a",
   "metadata": {},
   "outputs": [],
   "source": [
    "df.drop('ID',axis=1,inplace=True)"
   ]
  },
  {
   "cell_type": "code",
   "execution_count": 225,
   "id": "50c4017b",
   "metadata": {},
   "outputs": [
    {
     "data": {
      "text/plain": [
       "0.12808527889139443"
      ]
     },
     "execution_count": 225,
     "metadata": {},
     "output_type": "execute_result"
    }
   ],
   "source": [
    "getInfoGainOverFeature(df,'Fever')"
   ]
  },
  {
   "cell_type": "code",
   "execution_count": 242,
   "id": "9fbdeb5b",
   "metadata": {},
   "outputs": [
    {
     "data": {
      "text/plain": [
       "('Breathing', 0.39603884492804464)"
      ]
     },
     "execution_count": 242,
     "metadata": {},
     "output_type": "execute_result"
    }
   ],
   "source": [
    "chooseBestFeature(df)"
   ]
  },
  {
   "cell_type": "code",
   "execution_count": 245,
   "id": "d5ef0ae9",
   "metadata": {},
   "outputs": [
    {
     "data": {
      "text/plain": [
       "('Fever', 0.19087450462110933)"
      ]
     },
     "execution_count": 245,
     "metadata": {},
     "output_type": "execute_result"
    }
   ],
   "source": [
    "chooseBestFeature(df[df['Breathing']=='n'].drop('Breathing',axis=1))"
   ]
  },
  {
   "cell_type": "code",
   "execution_count": 244,
   "id": "216289b5",
   "metadata": {},
   "outputs": [
    {
     "data": {
      "text/plain": [
       "Index(['Fever', 'Cough', 'Breathing', 'Infected'], dtype='object')"
      ]
     },
     "execution_count": 244,
     "metadata": {},
     "output_type": "execute_result"
    }
   ],
   "source": [
    "df.columns"
   ]
  },
  {
   "cell_type": "code",
   "execution_count": null,
   "id": "348be73f",
   "metadata": {},
   "outputs": [],
   "source": []
  }
 ],
 "metadata": {},
 "nbformat": 4,
 "nbformat_minor": 5
}
