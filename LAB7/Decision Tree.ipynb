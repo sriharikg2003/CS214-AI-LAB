{
 "cells": [
  {
   "cell_type": "code",
   "execution_count": 3,
   "id": "ff8671db",
   "metadata": {},
   "outputs": [],
   "source": [
    "import pandas as pd\n",
    "import numpy as np\n",
    "import matplotlib.pyplot as plt\n",
    "# %matplotlib inline"
   ]
  },
  {
   "cell_type": "code",
   "execution_count": 4,
   "id": "e3517472",
   "metadata": {},
   "outputs": [],
   "source": [
    "def chooseBestFeature(df):\n",
    "    \"\"\"\n",
    "    From the given dataframe selects the root node\n",
    "    \"\"\"\n",
    "    categorical = df.columns[-1]\n",
    "    \n",
    "    feature_array = df.columns[:-1]\n",
    "    \n",
    "    ig_array = dict()\n",
    "    \n",
    "    for i in feature_array:\n",
    "        ig_array[i] = getInfoGainOverFeature(df,i)\n",
    "        \n",
    "    return max(ig_array, key=ig_array.get),ig_array[max(ig_array, key=ig_array.get)]   "
   ]
  },
  {
   "cell_type": "code",
   "execution_count": 5,
   "id": "4565cbd2",
   "metadata": {},
   "outputs": [],
   "source": [
    "def getInfoGainOverFeature(df,feature):\n",
    "    \n",
    "    \"\"\"\n",
    "    Return the information gain for a given part of dataframe\n",
    "    on splitting upon a feature\n",
    "    \"\"\"\n",
    "    categorical = df.columns[-1]\n",
    "    \n",
    "    \n",
    "    dataframe_array = []\n",
    "\n",
    "    for value in df[feature].unique():\n",
    "        dataframe_array.append(df[df[feature]==value])\n",
    "    \n",
    "    feature_dict = dict()\n",
    "    entropy_array = []\n",
    "    \n",
    "    for dataframe in dataframe_array:\n",
    "        entropy_array.append(entropy(dataframe))\n",
    "        \n",
    "    \n",
    "    entropy_parent = entropy(df)\n",
    "    \n",
    "    total_values = len(df)\n",
    "    \n",
    "    factor_array = []\n",
    "    for i in range(len(entropy_array)):\n",
    "        factor_array.append( ((len(dataframe_array[i])/total_values))*entropy_array[i] )\n",
    "    \n",
    "    return entropy_parent-sum(factor_array)\n",
    "    \n"
   ]
  },
  {
   "cell_type": "code",
   "execution_count": 6,
   "id": "bf21bc85",
   "metadata": {},
   "outputs": [],
   "source": [
    "def mylog(num):\n",
    "    \"\"\"\n",
    "    Returns log base 2 of number\n",
    "    \"\"\"\n",
    "    if num!=0 :\n",
    "        return np.log2(num)\n",
    "    return 0"
   ]
  },
  {
   "cell_type": "code",
   "execution_count": 7,
   "id": "a5506fa1",
   "metadata": {},
   "outputs": [],
   "source": [
    "def entropy(df):\n",
    "    \"\"\"\n",
    "    Returns entropy of a part of dataframe\n",
    "    \"\"\"\n",
    "    categorical = df.columns[-1]\n",
    "    count = dict()\n",
    "    for  x in df[categorical].unique():\n",
    "        count[x]=0\n",
    "    for  x in df[categorical].values:\n",
    "        count[x]+=1\n",
    "\n",
    "    total_Values = len(df[categorical].values) \n",
    "    \n",
    "    return -1*sum([(count[i]/total_Values)*mylog(count[i]/total_Values) for i in count.keys() ])\n"
   ]
  },
  {
   "cell_type": "code",
   "execution_count": 24,
   "id": "50c4017b",
   "metadata": {},
   "outputs": [],
   "source": [
    "def generateTree(df,depth):\n",
    "    \"\"\"\n",
    "    Returns a decision tree as a dictionary\n",
    "    \"\"\"\n",
    "    if (len(df[df.columns[-1]].unique())==1) or (depth==0):\n",
    "        return (df[df.columns[-1]].unique())[0]\n",
    "    \n",
    "    else:\n",
    "        best_feature , info_gain = chooseBestFeature(df)\n",
    "        tree = {best_feature : {}}\n",
    "        \n",
    "        for i in df[best_feature].unique():\n",
    "            tree[best_feature][i] = generateTree(df[df[best_feature]==i],depth-1)\n",
    "        return tree  "
   ]
  },
  {
   "cell_type": "code",
   "execution_count": 25,
   "id": "f1f73aca",
   "metadata": {},
   "outputs": [],
   "source": [
    "df = pd.read_table('tennis.txt')"
   ]
  },
  {
   "cell_type": "code",
   "execution_count": 26,
   "id": "c1a0d323",
   "metadata": {},
   "outputs": [],
   "source": [
    "max_depth = 3"
   ]
  },
  {
   "cell_type": "code",
   "execution_count": 27,
   "id": "11ae2ea2",
   "metadata": {},
   "outputs": [],
   "source": [
    "tree = generateTree(df,max_depth)"
   ]
  },
  {
   "cell_type": "code",
   "execution_count": 28,
   "id": "e640d8bb",
   "metadata": {},
   "outputs": [
    {
     "data": {
      "text/plain": [
       "{'outlook': {'sunny': {'humidity': {'high': 'no', 'normal': 'yes'}},\n",
       "  'overcast': 'yes',\n",
       "  'rain': {'wind': {'weak': 'yes', 'strong': 'no'}}}}"
      ]
     },
     "execution_count": 28,
     "metadata": {},
     "output_type": "execute_result"
    }
   ],
   "source": [
    "tree"
   ]
  },
  {
   "cell_type": "code",
   "execution_count": 33,
   "id": "491501a9",
   "metadata": {},
   "outputs": [],
   "source": [
    "test = df.iloc[0].values"
   ]
  },
  {
   "cell_type": "code",
   "execution_count": null,
   "id": "311c6096",
   "metadata": {},
   "outputs": [],
   "source": []
  }
 ],
 "metadata": {
  "kernelspec": {
   "display_name": "Python 3 (ipykernel)",
   "language": "python",
   "name": "python3"
  },
  "language_info": {
   "codemirror_mode": {
    "name": "ipython",
    "version": 3
   },
   "file_extension": ".py",
   "mimetype": "text/x-python",
   "name": "python",
   "nbconvert_exporter": "python",
   "pygments_lexer": "ipython3",
   "version": "3.9.13"
  }
 },
 "nbformat": 4,
 "nbformat_minor": 5
}
