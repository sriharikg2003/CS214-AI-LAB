{
 "cells": [
  {
   "cell_type": "code",
   "execution_count": 1,
   "id": "ff8671db",
   "metadata": {},
   "outputs": [],
   "source": [
    "import pandas as pd\n",
    "import numpy as np\n",
    "\n",
    "import matplotlib.pyplot as plt\n",
    "#%matplotlib inline"
   ]
  },
  {
   "cell_type": "code",
   "execution_count": 2,
   "id": "e3517472",
   "metadata": {},
   "outputs": [],
   "source": [
    "def chooseBestFeature(df):\n",
    "    \"\"\"\n",
    "    From the given dataframe selects the root node\n",
    "    \"\"\"\n",
    "    categorical = df.columns[-1]\n",
    "    \n",
    "    feature_array = df.columns[:-1]\n",
    "    \n",
    "    ig_array = dict()\n",
    "    \n",
    "    for i in feature_array:\n",
    "        ig_array[i] = getInfoGainOverFeature(df,i)\n",
    "        \n",
    "    return max(ig_array, key=ig_array.get),ig_array[max(ig_array, key=ig_array.get)]   "
   ]
  },
  {
   "cell_type": "code",
   "execution_count": 3,
   "id": "4565cbd2",
   "metadata": {},
   "outputs": [],
   "source": [
    "def getInfoGainOverFeature(df,feature):\n",
    "    \n",
    "    \"\"\"\n",
    "    Return the information gain for a given part of dataframe\n",
    "    on splitting upon a feature\n",
    "    \"\"\"\n",
    "    categorical = df.columns[-1]\n",
    "    \n",
    "    \n",
    "    dataframe_array = []\n",
    "\n",
    "    for value in df[feature].unique():\n",
    "        dataframe_array.append(df[df[feature]==value])\n",
    "    \n",
    "    feature_dict = dict()\n",
    "    entropy_array = []\n",
    "    \n",
    "    for dataframe in dataframe_array:\n",
    "        entropy_array.append(entropy(dataframe))\n",
    "        \n",
    "    \n",
    "    entropy_parent = entropy(df)\n",
    "    \n",
    "    total_values = len(df)\n",
    "    \n",
    "    factor_array = []\n",
    "    for i in range(len(entropy_array)):\n",
    "        factor_array.append( ((len(dataframe_array[i])/total_values))*entropy_array[i] )\n",
    "    \n",
    "    return entropy_parent-sum(factor_array)\n",
    "    \n"
   ]
  },
  {
   "cell_type": "code",
   "execution_count": 4,
   "id": "bf21bc85",
   "metadata": {},
   "outputs": [],
   "source": [
    "def mylog(num):\n",
    "    \"\"\"\n",
    "    Returns log base 2 of number\n",
    "    \"\"\"\n",
    "    if num!=0 :\n",
    "        return np.log2(num)\n",
    "    return 0"
   ]
  },
  {
   "cell_type": "code",
   "execution_count": 5,
   "id": "a5506fa1",
   "metadata": {},
   "outputs": [],
   "source": [
    "def entropy(df):\n",
    "    \"\"\"\n",
    "    Returns entropy of a part of dataframe\n",
    "    \"\"\"\n",
    "    categorical = df.columns[-1]\n",
    "    count = dict()\n",
    "    for  x in df[categorical].unique():\n",
    "        count[x]=0\n",
    "    for  x in df[categorical].values:\n",
    "        count[x]+=1\n",
    "\n",
    "    total_Values = len(df[categorical].values) \n",
    "    \n",
    "    return -1*sum([(count[i]/total_Values)*mylog(count[i]/total_Values) for i in count.keys() ])\n"
   ]
  },
  {
   "cell_type": "code",
   "execution_count": 6,
   "id": "50c4017b",
   "metadata": {},
   "outputs": [],
   "source": [
    "\n",
    "def generateTree(df, depth):\n",
    "    \"\"\"\n",
    "    Returns a decision tree as a dictionary\n",
    "    \"\"\"\n",
    "    if (len(df[df.columns[-1]].unique()) == 1) or (depth == 0) or (len(df.columns) == 1):\n",
    "        return (df[df.columns[-1]].mode())[0]\n",
    "\n",
    "    else:\n",
    "        best_feature, info_gain = chooseBestFeature(df)\n",
    "        tree = {best_feature: {}}\n",
    "\n",
    "        for i in df[best_feature].unique():\n",
    "            tree[best_feature][i] = generateTree(df[df[best_feature] == i].drop(columns=[best_feature]), depth - 1)\n",
    "        return tree\n"
   ]
  },
  {
   "cell_type": "code",
   "execution_count": 7,
   "id": "f7fa64fc",
   "metadata": {},
   "outputs": [],
   "source": [
    "def predict(test, tree,arr):\n",
    "    \"\"\"\n",
    "    Predicts an input instance to yes or no based on decision tree\n",
    "    \"\"\"\n",
    "    if type(tree)==str:\n",
    "        return tree\n",
    "    \n",
    "    feature = list(tree.keys())[0]\n",
    "    if test[feature] in tree[feature]:\n",
    "        subtree = tree[feature][test[feature]]\n",
    "        return predict(test, subtree,arr)\n",
    "    else:\n",
    "        return arr[0]\n"
   ]
  },
  {
   "cell_type": "code",
   "execution_count": 8,
   "id": "d5a30d64",
   "metadata": {},
   "outputs": [],
   "source": [
    "def printTree(tree, gap=''):\n",
    "    \"\"\"\n",
    "    Prints the decision tree in a readable format\n",
    "    \"\"\"\n",
    "    if type(tree) == str:\n",
    "        print(tree)\n",
    "    else:\n",
    "        for feature, subtree in tree.items():\n",
    "            print(f'{gap}  {feature}:')\n",
    "            for value, subsubtree in subtree.items():\n",
    "                print(f'{gap*2}  {value} --> ', end='')\n",
    "                printTree(subsubtree, gap + \"  \")\n"
   ]
  },
  {
   "cell_type": "code",
   "execution_count": 9,
   "id": "33c8ffa1",
   "metadata": {},
   "outputs": [],
   "source": [
    "def accuracy(df):\n",
    "    \"\"\"\n",
    "    Returns the accuracy percentage\n",
    "    \"\"\"\n",
    "    predicted = []\n",
    "    for i in range(len(df)):\n",
    "        predicted.append(predict(df.iloc[i],tree,df[df.columns[-1]].unique()))\n",
    "    accuracy = 0\n",
    "    actual = np.array(df[df.columns[-1]])\n",
    "\n",
    "    accuracy = (sum(predicted == actual))*100/len(predicted)\n",
    "    print(f\"Total instances          :   {len(predicted)}\")\n",
    "    print(f\"Correct Predicitions     :   {sum(predicted == actual)}\")\n",
    "    print(f\"Inorrect Predicitions    :   {len(predicted)-sum(predicted == actual)}\")\n",
    "    print(f\"Accuracy                 :   {accuracy} %\")\n",
    "    return "
   ]
  },
  {
   "cell_type": "code",
   "execution_count": 10,
   "id": "c98c2976",
   "metadata": {},
   "outputs": [
    {
     "name": "stdout",
     "output_type": "stream",
     "text": [
      "Decision tree  : \n",
      "\n",
      "  sex:\n",
      "  male -->     pclass:\n",
      "      1st -->       age:\n",
      "          adult --> no\n",
      "          child --> yes\n",
      "      2nd -->       age:\n",
      "          adult --> no\n",
      "          child --> yes\n",
      "      3rd -->       age:\n",
      "          adult --> no\n",
      "          child --> no\n",
      "      crew -->       age:\n",
      "          adult --> no\n",
      "  female -->     pclass:\n",
      "      1st -->       age:\n",
      "          adult --> yes\n",
      "          child --> yes\n",
      "      2nd -->       age:\n",
      "          adult --> yes\n",
      "          child --> yes\n",
      "      3rd -->       age:\n",
      "          adult --> no\n",
      "          child --> no\n",
      "      crew -->       age:\n",
      "          adult --> yes\n"
     ]
    }
   ],
   "source": [
    "df = pd.read_table('titanic2.txt')\n",
    "max_depth = 10\n",
    "\n",
    "tree = generateTree(df,max_depth)\n",
    "print(\"Decision tree  : \\n\")\n",
    "printTree( tree)"
   ]
  },
  {
   "cell_type": "code",
   "execution_count": 11,
   "id": "b570a67c",
   "metadata": {
    "scrolled": true
   },
   "outputs": [
    {
     "name": "stdout",
     "output_type": "stream",
     "text": [
      "Total instances          :   2201\n",
      "Correct Predicitions     :   1740\n",
      "Inorrect Predicitions    :   461\n",
      "Accuracy                 :   79.05497501135848 %\n"
     ]
    }
   ],
   "source": [
    "accuracy(df)"
   ]
  },
  {
   "cell_type": "code",
   "execution_count": 12,
   "id": "095bc578",
   "metadata": {},
   "outputs": [
    {
     "data": {
      "text/html": [
       "<div>\n",
       "<style scoped>\n",
       "    .dataframe tbody tr th:only-of-type {\n",
       "        vertical-align: middle;\n",
       "    }\n",
       "\n",
       "    .dataframe tbody tr th {\n",
       "        vertical-align: top;\n",
       "    }\n",
       "\n",
       "    .dataframe thead th {\n",
       "        text-align: right;\n",
       "    }\n",
       "</style>\n",
       "<table border=\"1\" class=\"dataframe\">\n",
       "  <thead>\n",
       "    <tr style=\"text-align: right;\">\n",
       "      <th></th>\n",
       "      <th>pclass</th>\n",
       "      <th>age</th>\n",
       "      <th>sex</th>\n",
       "      <th>survived</th>\n",
       "    </tr>\n",
       "  </thead>\n",
       "  <tbody>\n",
       "    <tr>\n",
       "      <th>0</th>\n",
       "      <td>1st</td>\n",
       "      <td>adult</td>\n",
       "      <td>male</td>\n",
       "      <td>yes</td>\n",
       "    </tr>\n",
       "    <tr>\n",
       "      <th>1</th>\n",
       "      <td>1st</td>\n",
       "      <td>adult</td>\n",
       "      <td>male</td>\n",
       "      <td>yes</td>\n",
       "    </tr>\n",
       "    <tr>\n",
       "      <th>2</th>\n",
       "      <td>1st</td>\n",
       "      <td>adult</td>\n",
       "      <td>male</td>\n",
       "      <td>yes</td>\n",
       "    </tr>\n",
       "    <tr>\n",
       "      <th>3</th>\n",
       "      <td>1st</td>\n",
       "      <td>adult</td>\n",
       "      <td>male</td>\n",
       "      <td>yes</td>\n",
       "    </tr>\n",
       "    <tr>\n",
       "      <th>4</th>\n",
       "      <td>1st</td>\n",
       "      <td>adult</td>\n",
       "      <td>male</td>\n",
       "      <td>yes</td>\n",
       "    </tr>\n",
       "    <tr>\n",
       "      <th>...</th>\n",
       "      <td>...</td>\n",
       "      <td>...</td>\n",
       "      <td>...</td>\n",
       "      <td>...</td>\n",
       "    </tr>\n",
       "    <tr>\n",
       "      <th>2196</th>\n",
       "      <td>crew</td>\n",
       "      <td>adult</td>\n",
       "      <td>female</td>\n",
       "      <td>yes</td>\n",
       "    </tr>\n",
       "    <tr>\n",
       "      <th>2197</th>\n",
       "      <td>crew</td>\n",
       "      <td>adult</td>\n",
       "      <td>female</td>\n",
       "      <td>yes</td>\n",
       "    </tr>\n",
       "    <tr>\n",
       "      <th>2198</th>\n",
       "      <td>crew</td>\n",
       "      <td>adult</td>\n",
       "      <td>female</td>\n",
       "      <td>no</td>\n",
       "    </tr>\n",
       "    <tr>\n",
       "      <th>2199</th>\n",
       "      <td>crew</td>\n",
       "      <td>adult</td>\n",
       "      <td>female</td>\n",
       "      <td>no</td>\n",
       "    </tr>\n",
       "    <tr>\n",
       "      <th>2200</th>\n",
       "      <td>crew</td>\n",
       "      <td>adult</td>\n",
       "      <td>female</td>\n",
       "      <td>no</td>\n",
       "    </tr>\n",
       "  </tbody>\n",
       "</table>\n",
       "<p>2201 rows × 4 columns</p>\n",
       "</div>"
      ],
      "text/plain": [
       "     pclass    age     sex survived\n",
       "0       1st  adult    male      yes\n",
       "1       1st  adult    male      yes\n",
       "2       1st  adult    male      yes\n",
       "3       1st  adult    male      yes\n",
       "4       1st  adult    male      yes\n",
       "...     ...    ...     ...      ...\n",
       "2196   crew  adult  female      yes\n",
       "2197   crew  adult  female      yes\n",
       "2198   crew  adult  female       no\n",
       "2199   crew  adult  female       no\n",
       "2200   crew  adult  female       no\n",
       "\n",
       "[2201 rows x 4 columns]"
      ]
     },
     "execution_count": 12,
     "metadata": {},
     "output_type": "execute_result"
    }
   ],
   "source": [
    "df"
   ]
  },
  {
   "cell_type": "code",
   "execution_count": 10,
   "id": "2113a783",
   "metadata": {},
   "outputs": [],
   "source": [
    "A = [[1,2],[1,4]]"
   ]
  },
  {
   "cell_type": "code",
   "execution_count": 11,
   "id": "b784cd9d",
   "metadata": {},
   "outputs": [],
   "source": [
    "B = np.linalg.inv(A)"
   ]
  },
  {
   "cell_type": "code",
   "execution_count": 12,
   "id": "0e628ff1",
   "metadata": {},
   "outputs": [
    {
     "data": {
      "text/plain": [
       "array([[1., 0.],\n",
       "       [0., 1.]])"
      ]
     },
     "execution_count": 12,
     "metadata": {},
     "output_type": "execute_result"
    }
   ],
   "source": [
    "A@B"
   ]
  },
  {
   "cell_type": "code",
   "execution_count": null,
   "id": "52d33936",
   "metadata": {},
   "outputs": [],
   "source": []
  }
 ],
 "metadata": {
  "kernelspec": {
   "display_name": "Python 3 (ipykernel)",
   "language": "python",
   "name": "python3"
  },
  "language_info": {
   "codemirror_mode": {
    "name": "ipython",
    "version": 3
   },
   "file_extension": ".py",
   "mimetype": "text/x-python",
   "name": "python",
   "nbconvert_exporter": "python",
   "pygments_lexer": "ipython3",
   "version": "3.9.13"
  }
 },
 "nbformat": 4,
 "nbformat_minor": 5
}
