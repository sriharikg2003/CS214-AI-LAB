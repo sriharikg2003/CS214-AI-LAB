{
 "cells": [
  {
   "cell_type": "code",
   "execution_count": 1,
   "id": "ff8671db",
   "metadata": {},
   "outputs": [],
   "source": [
    "import pandas as pd\n",
    "import numpy as np\n",
    "import matplotlib.pyplot as plt\n",
    "%matplotlib inline"
   ]
  },
  {
   "cell_type": "code",
   "execution_count": 2,
   "id": "e3517472",
   "metadata": {},
   "outputs": [],
   "source": [
    "def chooseBestFeature(df):\n",
    "    \"\"\"\n",
    "    From the given dataframe selects the root node\n",
    "    \"\"\"\n",
    "    categorical = df.columns[-1]\n",
    "    \n",
    "    feature_array = df.columns[:-1]\n",
    "    \n",
    "    ig_array = dict()\n",
    "    \n",
    "    for i in feature_array:\n",
    "        ig_array[i] = getInfoGainOverFeature(df,i)\n",
    "        \n",
    "    # print(ig_array)\n",
    "    return max(ig_array, key=ig_array.get),ig_array[max(ig_array, key=ig_array.get)]   "
   ]
  },
  {
   "cell_type": "code",
   "execution_count": 3,
   "id": "4565cbd2",
   "metadata": {},
   "outputs": [],
   "source": [
    "def getInfoGainOverFeature(df,feature):\n",
    "    \n",
    "    \"\"\"\n",
    "    Return the information gain for a given part of dataframe\n",
    "    on splitting upon a feature\n",
    "    \"\"\"\n",
    "    categorical = df.columns[-1]\n",
    "    \n",
    "    \n",
    "    dataframe_array = []\n",
    "\n",
    "    for value in df[feature].unique():\n",
    "        dataframe_array.append(df[df[feature]==value])\n",
    "    \n",
    "    feature_dict = dict()\n",
    "    entropy_array = []\n",
    "    \n",
    "    for dataframe in dataframe_array:\n",
    "        entropy_array.append(entropy(dataframe))\n",
    "        \n",
    "    \n",
    "    entropy_parent = entropy(df)\n",
    "    \n",
    "    total_values = len(df)\n",
    "    \n",
    "    factor_array = []\n",
    "    for i in range(len(entropy_array)):\n",
    "        factor_array.append( ((len(dataframe_array[i])/total_values))*entropy_array[i] )\n",
    "    \n",
    "    return entropy_parent-sum(factor_array)\n",
    "    \n"
   ]
  },
  {
   "cell_type": "code",
   "execution_count": 4,
   "id": "bf21bc85",
   "metadata": {},
   "outputs": [],
   "source": [
    "def mylog(num):\n",
    "    \"\"\"\n",
    "    Returns log base 2 of number\n",
    "    \"\"\"\n",
    "    if num!=0 :\n",
    "        return np.log2(num)\n",
    "    return 0"
   ]
  },
  {
   "cell_type": "code",
   "execution_count": 5,
   "id": "a5506fa1",
   "metadata": {},
   "outputs": [],
   "source": [
    "def entropy(df):\n",
    "    \"\"\"\n",
    "    Returns entropy of a part of dataframe\n",
    "    \"\"\"\n",
    "    categorical = df.columns[-1]\n",
    "    #use dict\n",
    "    count = dict()\n",
    "    for  x in df[categorical].unique():\n",
    "        count[x]=0\n",
    "    for  x in df[categorical].values:\n",
    "        count[x]+=1\n",
    "\n",
    "    total_Values = len(df[categorical].values) \n",
    "    \n",
    "    return -1*sum([(count[i]/total_Values)*mylog(count[i]/total_Values) for i in count.keys() ])\n"
   ]
  },
  {
   "cell_type": "code",
   "execution_count": 28,
   "id": "c0bf10ba",
   "metadata": {},
   "outputs": [],
   "source": [
    "df = pd.read_table('tennis.txt')"
   ]
  },
  {
   "cell_type": "code",
   "execution_count": 29,
   "id": "4d6ac93f",
   "metadata": {},
   "outputs": [
    {
     "data": {
      "text/html": [
       "<div>\n",
       "<style scoped>\n",
       "    .dataframe tbody tr th:only-of-type {\n",
       "        vertical-align: middle;\n",
       "    }\n",
       "\n",
       "    .dataframe tbody tr th {\n",
       "        vertical-align: top;\n",
       "    }\n",
       "\n",
       "    .dataframe thead th {\n",
       "        text-align: right;\n",
       "    }\n",
       "</style>\n",
       "<table border=\"1\" class=\"dataframe\">\n",
       "  <thead>\n",
       "    <tr style=\"text-align: right;\">\n",
       "      <th></th>\n",
       "      <th>outlook</th>\n",
       "      <th>temperature</th>\n",
       "      <th>humidity</th>\n",
       "      <th>wind</th>\n",
       "      <th>playtennis</th>\n",
       "    </tr>\n",
       "  </thead>\n",
       "  <tbody>\n",
       "    <tr>\n",
       "      <th>0</th>\n",
       "      <td>sunny</td>\n",
       "      <td>hot</td>\n",
       "      <td>high</td>\n",
       "      <td>weak</td>\n",
       "      <td>no</td>\n",
       "    </tr>\n",
       "    <tr>\n",
       "      <th>1</th>\n",
       "      <td>sunny</td>\n",
       "      <td>hot</td>\n",
       "      <td>high</td>\n",
       "      <td>strong</td>\n",
       "      <td>no</td>\n",
       "    </tr>\n",
       "    <tr>\n",
       "      <th>2</th>\n",
       "      <td>overcast</td>\n",
       "      <td>hot</td>\n",
       "      <td>high</td>\n",
       "      <td>weak</td>\n",
       "      <td>yes</td>\n",
       "    </tr>\n",
       "    <tr>\n",
       "      <th>3</th>\n",
       "      <td>rain</td>\n",
       "      <td>mild</td>\n",
       "      <td>high</td>\n",
       "      <td>weak</td>\n",
       "      <td>yes</td>\n",
       "    </tr>\n",
       "    <tr>\n",
       "      <th>4</th>\n",
       "      <td>rain</td>\n",
       "      <td>cool</td>\n",
       "      <td>normal</td>\n",
       "      <td>weak</td>\n",
       "      <td>yes</td>\n",
       "    </tr>\n",
       "    <tr>\n",
       "      <th>5</th>\n",
       "      <td>rain</td>\n",
       "      <td>cool</td>\n",
       "      <td>normal</td>\n",
       "      <td>strong</td>\n",
       "      <td>no</td>\n",
       "    </tr>\n",
       "    <tr>\n",
       "      <th>6</th>\n",
       "      <td>overcast</td>\n",
       "      <td>cool</td>\n",
       "      <td>normal</td>\n",
       "      <td>strong</td>\n",
       "      <td>yes</td>\n",
       "    </tr>\n",
       "    <tr>\n",
       "      <th>7</th>\n",
       "      <td>sunny</td>\n",
       "      <td>mild</td>\n",
       "      <td>high</td>\n",
       "      <td>weak</td>\n",
       "      <td>no</td>\n",
       "    </tr>\n",
       "    <tr>\n",
       "      <th>8</th>\n",
       "      <td>sunny</td>\n",
       "      <td>cool</td>\n",
       "      <td>normal</td>\n",
       "      <td>weak</td>\n",
       "      <td>yes</td>\n",
       "    </tr>\n",
       "    <tr>\n",
       "      <th>9</th>\n",
       "      <td>rain</td>\n",
       "      <td>mild</td>\n",
       "      <td>normal</td>\n",
       "      <td>weak</td>\n",
       "      <td>yes</td>\n",
       "    </tr>\n",
       "    <tr>\n",
       "      <th>10</th>\n",
       "      <td>sunny</td>\n",
       "      <td>mild</td>\n",
       "      <td>normal</td>\n",
       "      <td>strong</td>\n",
       "      <td>yes</td>\n",
       "    </tr>\n",
       "    <tr>\n",
       "      <th>11</th>\n",
       "      <td>overcast</td>\n",
       "      <td>mild</td>\n",
       "      <td>high</td>\n",
       "      <td>strong</td>\n",
       "      <td>yes</td>\n",
       "    </tr>\n",
       "    <tr>\n",
       "      <th>12</th>\n",
       "      <td>overcast</td>\n",
       "      <td>hot</td>\n",
       "      <td>normal</td>\n",
       "      <td>weak</td>\n",
       "      <td>yes</td>\n",
       "    </tr>\n",
       "    <tr>\n",
       "      <th>13</th>\n",
       "      <td>rain</td>\n",
       "      <td>mild</td>\n",
       "      <td>high</td>\n",
       "      <td>strong</td>\n",
       "      <td>no</td>\n",
       "    </tr>\n",
       "  </tbody>\n",
       "</table>\n",
       "</div>"
      ],
      "text/plain": [
       "     outlook temperature humidity    wind playtennis\n",
       "0      sunny         hot     high    weak         no\n",
       "1      sunny         hot     high  strong         no\n",
       "2   overcast         hot     high    weak        yes\n",
       "3       rain        mild     high    weak        yes\n",
       "4       rain        cool   normal    weak        yes\n",
       "5       rain        cool   normal  strong         no\n",
       "6   overcast        cool   normal  strong        yes\n",
       "7      sunny        mild     high    weak         no\n",
       "8      sunny        cool   normal    weak        yes\n",
       "9       rain        mild   normal    weak        yes\n",
       "10     sunny        mild   normal  strong        yes\n",
       "11  overcast        mild     high  strong        yes\n",
       "12  overcast         hot   normal    weak        yes\n",
       "13      rain        mild     high  strong         no"
      ]
     },
     "execution_count": 29,
     "metadata": {},
     "output_type": "execute_result"
    }
   ],
   "source": [
    "df"
   ]
  },
  {
   "cell_type": "code",
   "execution_count": 54,
   "id": "50c4017b",
   "metadata": {},
   "outputs": [
    {
     "data": {
      "text/plain": [
       "0.24674981977443933"
      ]
     },
     "execution_count": 54,
     "metadata": {},
     "output_type": "execute_result"
    }
   ],
   "source": [
    "getInfoGainOverFeature(df,'outlook')"
   ]
  },
  {
   "cell_type": "code",
   "execution_count": 55,
   "id": "c3e87b2e",
   "metadata": {},
   "outputs": [],
   "source": [
    "tree = dict()"
   ]
  },
  {
   "cell_type": "code",
   "execution_count": null,
   "id": "6045f6fe",
   "metadata": {},
   "outputs": [],
   "source": []
  },
  {
   "cell_type": "code",
   "execution_count": 56,
   "id": "9fbdeb5b",
   "metadata": {},
   "outputs": [
    {
     "data": {
      "text/plain": [
       "'outlook'"
      ]
     },
     "execution_count": 56,
     "metadata": {},
     "output_type": "execute_result"
    }
   ],
   "source": [
    "main_root = chooseBestFeature(df)[0]\n",
    "main_root\n"
   ]
  },
  {
   "cell_type": "code",
   "execution_count": 57,
   "id": "123eeb11",
   "metadata": {},
   "outputs": [],
   "source": [
    "tree['root']=main_root"
   ]
  },
  {
   "cell_type": "code",
   "execution_count": 58,
   "id": "be5d28d9",
   "metadata": {},
   "outputs": [
    {
     "data": {
      "text/plain": [
       "{'root': 'outlook'}"
      ]
     },
     "execution_count": 58,
     "metadata": {},
     "output_type": "execute_result"
    }
   ],
   "source": [
    "tree"
   ]
  },
  {
   "cell_type": "code",
   "execution_count": 60,
   "id": "33b6c8ef",
   "metadata": {},
   "outputs": [
    {
     "data": {
      "text/plain": [
       "{'root': 'outlook', 'outlook': ['sunny', 'overcast', 'rain']}"
      ]
     },
     "execution_count": 60,
     "metadata": {},
     "output_type": "execute_result"
    }
   ],
   "source": [
    "df_1=[]\n",
    "tree[main_root]=[]\n",
    "for i in df[main_root].unique():\n",
    "    df_1.append(df[df[main_root]==i].drop(main_root,axis=1))\n",
    "    tree[main_root].append(i)\n",
    "tree"
   ]
  },
  {
   "cell_type": "code",
   "execution_count": 67,
   "id": "1252d980",
   "metadata": {},
   "outputs": [],
   "source": [
    "root_level_2 = []\n",
    "for i in df_1:\n",
    "    root_level_2.append(chooseBestFeature(i)[0])"
   ]
  },
  {
   "cell_type": "code",
   "execution_count": 69,
   "id": "4a63cfe5",
   "metadata": {},
   "outputs": [
    {
     "data": {
      "text/plain": [
       "['humidity', 'temperature', 'wind']"
      ]
     },
     "execution_count": 69,
     "metadata": {},
     "output_type": "execute_result"
    }
   ],
   "source": [
    "root_level_2"
   ]
  },
  {
   "cell_type": "code",
   "execution_count": 70,
   "id": "f02d879a",
   "metadata": {},
   "outputs": [
    {
     "ename": "SyntaxError",
     "evalue": "invalid syntax (1698322596.py, line 1)",
     "output_type": "error",
     "traceback": [
      "\u001b[1;36m  File \u001b[1;32m\"C:\\Users\\sriha\\AppData\\Local\\Temp\\ipykernel_5156\\1698322596.py\"\u001b[1;36m, line \u001b[1;32m1\u001b[0m\n\u001b[1;33m    for i in rootl\u001b[0m\n\u001b[1;37m                  ^\u001b[0m\n\u001b[1;31mSyntaxError\u001b[0m\u001b[1;31m:\u001b[0m invalid syntax\n"
     ]
    }
   ],
   "source": [
    "for i in root_level_2:\n",
    "    "
   ]
  },
  {
   "cell_type": "code",
   "execution_count": 53,
   "id": "40f4c70b",
   "metadata": {},
   "outputs": [
    {
     "data": {
      "text/html": [
       "<div>\n",
       "<style scoped>\n",
       "    .dataframe tbody tr th:only-of-type {\n",
       "        vertical-align: middle;\n",
       "    }\n",
       "\n",
       "    .dataframe tbody tr th {\n",
       "        vertical-align: top;\n",
       "    }\n",
       "\n",
       "    .dataframe thead th {\n",
       "        text-align: right;\n",
       "    }\n",
       "</style>\n",
       "<table border=\"1\" class=\"dataframe\">\n",
       "  <thead>\n",
       "    <tr style=\"text-align: right;\">\n",
       "      <th></th>\n",
       "      <th>temperature</th>\n",
       "      <th>humidity</th>\n",
       "      <th>wind</th>\n",
       "      <th>playtennis</th>\n",
       "    </tr>\n",
       "  </thead>\n",
       "  <tbody>\n",
       "    <tr>\n",
       "      <th>0</th>\n",
       "      <td>hot</td>\n",
       "      <td>high</td>\n",
       "      <td>weak</td>\n",
       "      <td>no</td>\n",
       "    </tr>\n",
       "    <tr>\n",
       "      <th>1</th>\n",
       "      <td>hot</td>\n",
       "      <td>high</td>\n",
       "      <td>strong</td>\n",
       "      <td>no</td>\n",
       "    </tr>\n",
       "    <tr>\n",
       "      <th>7</th>\n",
       "      <td>mild</td>\n",
       "      <td>high</td>\n",
       "      <td>weak</td>\n",
       "      <td>no</td>\n",
       "    </tr>\n",
       "    <tr>\n",
       "      <th>8</th>\n",
       "      <td>cool</td>\n",
       "      <td>normal</td>\n",
       "      <td>weak</td>\n",
       "      <td>yes</td>\n",
       "    </tr>\n",
       "    <tr>\n",
       "      <th>10</th>\n",
       "      <td>mild</td>\n",
       "      <td>normal</td>\n",
       "      <td>strong</td>\n",
       "      <td>yes</td>\n",
       "    </tr>\n",
       "  </tbody>\n",
       "</table>\n",
       "</div>"
      ],
      "text/plain": [
       "   temperature humidity    wind playtennis\n",
       "0          hot     high    weak         no\n",
       "1          hot     high  strong         no\n",
       "7         mild     high    weak         no\n",
       "8         cool   normal    weak        yes\n",
       "10        mild   normal  strong        yes"
      ]
     },
     "execution_count": 53,
     "metadata": {},
     "output_type": "execute_result"
    }
   ],
   "source": [
    "df_1[0].head()"
   ]
  },
  {
   "cell_type": "code",
   "execution_count": 42,
   "id": "8ab8c7f1",
   "metadata": {},
   "outputs": [
    {
     "data": {
      "text/plain": [
       "['humidity', 'temperature', 'wind']"
      ]
     },
     "execution_count": 42,
     "metadata": {},
     "output_type": "execute_result"
    }
   ],
   "source": [
    "level_2_array = []\n",
    "for i in df[main_root].unique():\n",
    "    level_2_array.append(chooseBestFeature(df[df[main_root]==i].drop(main_root,axis=1))[0])"
   ]
  },
  {
   "cell_type": "code",
   "execution_count": null,
   "id": "0505370a",
   "metadata": {},
   "outputs": [],
   "source": [
    "level_3_array = []\n",
    "\n",
    "for i in level_2_array:\n",
    "    for j in df[i].unique()\n",
    "    level_2_array.append(chooseBestFeature(df[df[main_root]==i].drop(main_root,axis=1))[0])"
   ]
  },
  {
   "cell_type": "code",
   "execution_count": null,
   "id": "9ba72198",
   "metadata": {},
   "outputs": [],
   "source": []
  },
  {
   "cell_type": "code",
   "execution_count": null,
   "id": "68f0ef03",
   "metadata": {},
   "outputs": [],
   "source": []
  },
  {
   "cell_type": "code",
   "execution_count": null,
   "id": "e2f232e1",
   "metadata": {},
   "outputs": [],
   "source": []
  },
  {
   "cell_type": "code",
   "execution_count": 11,
   "id": "d5ef0ae9",
   "metadata": {},
   "outputs": [],
   "source": [
    "def generateTree(df,parent):\n",
    "    \n",
    "    root,ig  = chooseBestFeature(df)\n",
    "\n",
    "#  print(parent,root)   \n",
    "    if ig !=0 :\n",
    "        df_left = df[df[root]=='y'].drop(root,axis =  1)\n",
    "        print(root,\"<---\",parent,len(df_left))\n",
    "\n",
    "        generateTree(df_left,root)\n",
    "        df_right = df[df[root]=='n'].drop(root,axis = 1)\n",
    "        print(parent,\"---->\",root,len(df_right))\n",
    "\n",
    "        generateTree(df_right,root)\n",
    "    else:\n",
    "        print (print(root,\"----\" ,df[df.columns[-1]].max()))\n",
    "\n",
    "     "
   ]
  },
  {
   "cell_type": "code",
   "execution_count": 12,
   "id": "216289b5",
   "metadata": {},
   "outputs": [
    {
     "name": "stdout",
     "output_type": "stream",
     "text": [
      "Breathing <--- None 8\n",
      "Fever <--- Breathing 5\n",
      "Cough ---- y\n",
      "None\n",
      "Breathing ----> Fever 3\n",
      "Cough ---- y\n",
      "None\n",
      "None ----> Breathing 6\n",
      "Fever <--- Breathing 3\n",
      "Cough ---- y\n",
      "None\n",
      "Breathing ----> Fever 3\n",
      "Cough ---- n\n",
      "None\n"
     ]
    }
   ],
   "source": [
    "\n",
    "generateTree(df,None)"
   ]
  },
  {
   "cell_type": "code",
   "execution_count": 22,
   "id": "348be73f",
   "metadata": {},
   "outputs": [],
   "source": [
    "max_depth = 2\n",
    "tree = dict()\n",
    "tree['root'] = chooseBestFeature(df)[0]"
   ]
  },
  {
   "cell_type": "code",
   "execution_count": 25,
   "id": "55012004",
   "metadata": {},
   "outputs": [
    {
     "data": {
      "text/plain": [
       "array(['n', 'y'], dtype=object)"
      ]
     },
     "execution_count": 25,
     "metadata": {},
     "output_type": "execute_result"
    }
   ],
   "source": [
    "for i in df[tree['root']].unique():\n",
    "    "
   ]
  },
  {
   "cell_type": "code",
   "execution_count": null,
   "id": "f91ab52b",
   "metadata": {},
   "outputs": [],
   "source": []
  },
  {
   "cell_type": "code",
   "execution_count": null,
   "id": "9d3bb32f",
   "metadata": {},
   "outputs": [],
   "source": []
  },
  {
   "cell_type": "code",
   "execution_count": null,
   "id": "a48b6892",
   "metadata": {},
   "outputs": [],
   "source": []
  }
 ],
 "metadata": {
  "kernelspec": {
   "display_name": "Python 3 (ipykernel)",
   "language": "python",
   "name": "python3"
  },
  "language_info": {
   "codemirror_mode": {
    "name": "ipython",
    "version": 3
   },
   "file_extension": ".py",
   "mimetype": "text/x-python",
   "name": "python",
   "nbconvert_exporter": "python",
   "pygments_lexer": "ipython3",
   "version": "3.9.13"
  }
 },
 "nbformat": 4,
 "nbformat_minor": 5
}
